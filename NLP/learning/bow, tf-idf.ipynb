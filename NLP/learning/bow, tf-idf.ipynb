{
 "cells": [
  {
   "cell_type": "code",
   "execution_count": 1,
   "id": "8064d73b",
   "metadata": {},
   "outputs": [
    {
     "name": "stdout",
     "output_type": "stream",
     "text": [
      "Hello world\n"
     ]
    }
   ],
   "source": [
    "print(\"Hello world\")"
   ]
  },
  {
   "cell_type": "markdown",
   "id": "667a4a87",
   "metadata": {},
   "source": [
    "# BOW - bag of words"
   ]
  },
  {
   "cell_type": "code",
   "execution_count": 2,
   "id": "f0fb64a2",
   "metadata": {},
   "outputs": [],
   "source": [
    "import nltk"
   ]
  },
  {
   "cell_type": "code",
   "execution_count": 3,
   "id": "80a158dc",
   "metadata": {},
   "outputs": [],
   "source": [
    "paragraph = \"\"\"\n",
    "    In 2019, OpenAI transitioned from non-profit to \"capped\" for-profit, with the profit being capped at 100 times any investment.[40] According to OpenAI, the capped-profit model allows OpenAI Global LLC to legally attract investment from venture funds and, in addition, to grant employees stakes in the company.[41] Many top researchers work for Google Brain, DeepMind, or Facebook , which offer stock options that a nonprofit would be unable to.[42] Before the transition, public disclosure of the compensation of top employees at OpenAI was legally required.[43]\n",
    "\n",
    "The company then distributed equity to its employees and partnered with Microsoft,[44] announcing an investment package of $1 billion into the company. Since then, OpenAI systems have run on an Azure-based supercomputing platform from Microsoft.[45][46][47]\n",
    "\n",
    "OpenAI Global LLC then announced its intention to commercially license its technologies.[48] It planned to spend the $1 billion \"within five years, and possibly much faster.\"[49] Altman has stated that even a billion dollars may turn out to be insufficient, and that the lab may ultimately need \"more capital than any non-profit has ever raised\" to achieve artificial general intelligence.[50]\n",
    "\n",
    "The transition from a nonprofit to a capped-profit company was viewed with skepticism by Oren Etzioni of the nonprofit Allen Institute for AI, who agreed that wooing top researchers to a nonprofit is difficult, but stated \"I disagree with the notion that a nonprofit can't compete\" and pointed to successful low-budget projects by OpenAI and others. \"If bigger and better funded was always better, then IBM would still be number one.\"\n",
    "\n",
    "The nonprofit, OpenAI, Inc., is the sole controlling shareholder of OpenAI Global LLC, which, despite being a for-profit company, retains a formal fiduciary responsibility to OpenAI, Inc.'s nonprofit charter. A majority of OpenAI, Inc.'s board is barred from having financial stakes in OpenAI Global LLC.[41] In addition, minority members with a stake in OpenAI Global LLC are barred from certain votes due to conflict of interest.[42] Some researchers have argued that OpenAI Global LLC's switch to for-profit status is inconsistent with OpenAI's claims to be \"democratizing\" AI.[51]\n",
    "\"\"\""
   ]
  },
  {
   "cell_type": "code",
   "execution_count": 4,
   "id": "d4befe30",
   "metadata": {},
   "outputs": [
    {
     "data": {
      "text/plain": [
       "'\\n    In 2019, OpenAI transitioned from non-profit to \"capped\" for-profit, with the profit being capped at 100 times any investment.[40] According to OpenAI, the capped-profit model allows OpenAI Global LLC to legally attract investment from venture funds and, in addition, to grant employees stakes in the company.[41] Many top researchers work for Google Brain, DeepMind, or Facebook , which offer stock options that a nonprofit would be unable to.[42] Before the transition, public disclosure of the compensation of top employees at OpenAI was legally required.[43]\\n\\nThe company then distributed equity to its employees and partnered with Microsoft,[44] announcing an investment package of $1 billion into the company. Since then, OpenAI systems have run on an Azure-based supercomputing platform from Microsoft.[45][46][47]\\n\\nOpenAI Global LLC then announced its intention to commercially license its technologies.[48] It planned to spend the $1 billion \"within five years, and possibly much faster.\"[49] Altman has stated that even a billion dollars may turn out to be insufficient, and that the lab may ultimately need \"more capital than any non-profit has ever raised\" to achieve artificial general intelligence.[50]\\n\\nThe transition from a nonprofit to a capped-profit company was viewed with skepticism by Oren Etzioni of the nonprofit Allen Institute for AI, who agreed that wooing top researchers to a nonprofit is difficult, but stated \"I disagree with the notion that a nonprofit can\\'t compete\" and pointed to successful low-budget projects by OpenAI and others. \"If bigger and better funded was always better, then IBM would still be number one.\"\\n\\nThe nonprofit, OpenAI, Inc., is the sole controlling shareholder of OpenAI Global LLC, which, despite being a for-profit company, retains a formal fiduciary responsibility to OpenAI, Inc.\\'s nonprofit charter. A majority of OpenAI, Inc.\\'s board is barred from having financial stakes in OpenAI Global LLC.[41] In addition, minority members with a stake in OpenAI Global LLC are barred from certain votes due to conflict of interest.[42] Some researchers have argued that OpenAI Global LLC\\'s switch to for-profit status is inconsistent with OpenAI\\'s claims to be \"democratizing\" AI.[51]\\n'"
      ]
     },
     "execution_count": 4,
     "metadata": {},
     "output_type": "execute_result"
    }
   ],
   "source": [
    "paragraph"
   ]
  },
  {
   "cell_type": "code",
   "execution_count": 5,
   "id": "fa154bb6",
   "metadata": {},
   "outputs": [],
   "source": [
    "from nltk import PorterStemmer\n",
    "from nltk.corpus import stopwords"
   ]
  },
  {
   "cell_type": "code",
   "execution_count": 6,
   "id": "9bc5e179",
   "metadata": {},
   "outputs": [],
   "source": [
    "# tokenization- convert paragraph->sentences->words\n",
    "# nltk.download('punkt')\n",
    "sentences = nltk.sent_tokenize(paragraph)"
   ]
  },
  {
   "cell_type": "code",
   "execution_count": 7,
   "id": "b3e40da6",
   "metadata": {},
   "outputs": [
    {
     "name": "stdout",
     "output_type": "stream",
     "text": [
      "['\\n    In 2019, OpenAI transitioned from non-profit to \"capped\" for-profit, with the profit being capped at 100 times any investment.', '[40] According to OpenAI, the capped-profit model allows OpenAI Global LLC to legally attract investment from venture funds and, in addition, to grant employees stakes in the company.', '[41] Many top researchers work for Google Brain, DeepMind, or Facebook , which offer stock options that a nonprofit would be unable to.', '[42] Before the transition, public disclosure of the compensation of top employees at OpenAI was legally required.', '[43]\\n\\nThe company then distributed equity to its employees and partnered with Microsoft,[44] announcing an investment package of $1 billion into the company.', 'Since then, OpenAI systems have run on an Azure-based supercomputing platform from Microsoft.', '[45][46][47]\\n\\nOpenAI Global LLC then announced its intention to commercially license its technologies.', '[48] It planned to spend the $1 billion \"within five years, and possibly much faster.', '\"[49] Altman has stated that even a billion dollars may turn out to be insufficient, and that the lab may ultimately need \"more capital than any non-profit has ever raised\" to achieve artificial general intelligence.', '[50]\\n\\nThe transition from a nonprofit to a capped-profit company was viewed with skepticism by Oren Etzioni of the nonprofit Allen Institute for AI, who agreed that wooing top researchers to a nonprofit is difficult, but stated \"I disagree with the notion that a nonprofit can\\'t compete\" and pointed to successful low-budget projects by OpenAI and others.', '\"If bigger and better funded was always better, then IBM would still be number one.\"', \"The nonprofit, OpenAI, Inc., is the sole controlling shareholder of OpenAI Global LLC, which, despite being a for-profit company, retains a formal fiduciary responsibility to OpenAI, Inc.'s nonprofit charter.\", \"A majority of OpenAI, Inc.'s board is barred from having financial stakes in OpenAI Global LLC.\", '[41] In addition, minority members with a stake in OpenAI Global LLC are barred from certain votes due to conflict of interest.', '[42] Some researchers have argued that OpenAI Global LLC\\'s switch to for-profit status is inconsistent with OpenAI\\'s claims to be \"democratizing\" AI.', '[51]']\n"
     ]
    }
   ],
   "source": [
    "print(sentences)"
   ]
  },
  {
   "cell_type": "code",
   "execution_count": 8,
   "id": "f8df25b4",
   "metadata": {},
   "outputs": [
    {
     "data": {
      "text/plain": [
       "'go'"
      ]
     },
     "execution_count": 8,
     "metadata": {},
     "output_type": "execute_result"
    }
   ],
   "source": [
    "stemmer = PorterStemmer()\n",
    "stemmer.stem('going')"
   ]
  },
  {
   "cell_type": "code",
   "execution_count": 9,
   "id": "932822ae",
   "metadata": {},
   "outputs": [],
   "source": [
    "from nltk.stem import WordNetLemmatizer"
   ]
  },
  {
   "cell_type": "code",
   "execution_count": 10,
   "id": "da332f81",
   "metadata": {},
   "outputs": [],
   "source": [
    "lemmatizer = WordNetLemmatizer()"
   ]
  },
  {
   "cell_type": "code",
   "execution_count": 11,
   "id": "62de064f",
   "metadata": {},
   "outputs": [
    {
     "data": {
      "text/plain": [
       "'go'"
      ]
     },
     "execution_count": 11,
     "metadata": {},
     "output_type": "execute_result"
    }
   ],
   "source": [
    "lemmatizer.lemmatize('goes')"
   ]
  },
  {
   "cell_type": "code",
   "execution_count": 12,
   "id": "0b41bbda",
   "metadata": {},
   "outputs": [],
   "source": [
    "import re"
   ]
  },
  {
   "cell_type": "code",
   "execution_count": 35,
   "id": "9e0e3685",
   "metadata": {},
   "outputs": [
    {
     "name": "stdout",
     "output_type": "stream",
     "text": [
      "     In       OpenAI transitioned from non profit to  capped  for profit  with the profit being capped at     times any investment \n",
      "   According to OpenAI  the capped profit model allows OpenAI Global LLC to legally attract investment from venture funds and  in addition  to grant employees stakes in the company \n",
      "   Many top researchers work for Google Brain  DeepMind  or Facebook   which offer stock options that a nonprofit would be unable to \n",
      "   Before the transition  public disclosure of the compensation of top employees at OpenAI was legally required \n",
      "    The company then distributed equity to its employees and partnered with Microsoft    announcing an investment package of    billion into the company \n"
     ]
    }
   ],
   "source": [
    "corpus = []\n",
    "for i in range(len(sentences)):\n",
    "    review = re.sub('[^a-zA-z]', ' ', sentences[i])\n",
    "    review = review.replace('[', '').replace(']', '')\n",
    "    print(review)\n",
    "    review = review.lower()\n",
    "    corpus.append(review)"
   ]
  },
  {
   "cell_type": "code",
   "execution_count": 36,
   "id": "805bfb5b",
   "metadata": {},
   "outputs": [
    {
     "data": {
      "text/plain": [
       "['     in       openai transitioned from non profit to  capped  for profit  with the profit being capped at     times any investment ',\n",
       " '   according to openai  the capped profit model allows openai global llc to legally attract investment from venture funds and  in addition  to grant employees stakes in the company ',\n",
       " '   many top researchers work for google brain  deepmind  or facebook   which offer stock options that a nonprofit would be unable to ',\n",
       " '   before the transition  public disclosure of the compensation of top employees at openai was legally required ',\n",
       " '    the company then distributed equity to its employees and partnered with microsoft    announcing an investment package of    billion into the company ']"
      ]
     },
     "execution_count": 36,
     "metadata": {},
     "output_type": "execute_result"
    }
   ],
   "source": [
    "corpus"
   ]
  },
  {
   "cell_type": "code",
   "execution_count": 15,
   "id": "7ccde0af",
   "metadata": {},
   "outputs": [
    {
     "data": {
      "text/plain": [
       "['i',\n",
       " 'me',\n",
       " 'my',\n",
       " 'myself',\n",
       " 'we',\n",
       " 'our',\n",
       " 'ours',\n",
       " 'ourselves',\n",
       " 'you',\n",
       " \"you're\",\n",
       " \"you've\",\n",
       " \"you'll\",\n",
       " \"you'd\",\n",
       " 'your',\n",
       " 'yours',\n",
       " 'yourself',\n",
       " 'yourselves',\n",
       " 'he',\n",
       " 'him',\n",
       " 'his',\n",
       " 'himself',\n",
       " 'she',\n",
       " \"she's\",\n",
       " 'her',\n",
       " 'hers',\n",
       " 'herself',\n",
       " 'it',\n",
       " \"it's\",\n",
       " 'its',\n",
       " 'itself',\n",
       " 'they',\n",
       " 'them',\n",
       " 'their',\n",
       " 'theirs',\n",
       " 'themselves',\n",
       " 'what',\n",
       " 'which',\n",
       " 'who',\n",
       " 'whom',\n",
       " 'this',\n",
       " 'that',\n",
       " \"that'll\",\n",
       " 'these',\n",
       " 'those',\n",
       " 'am',\n",
       " 'is',\n",
       " 'are',\n",
       " 'was',\n",
       " 'were',\n",
       " 'be',\n",
       " 'been',\n",
       " 'being',\n",
       " 'have',\n",
       " 'has',\n",
       " 'had',\n",
       " 'having',\n",
       " 'do',\n",
       " 'does',\n",
       " 'did',\n",
       " 'doing',\n",
       " 'a',\n",
       " 'an',\n",
       " 'the',\n",
       " 'and',\n",
       " 'but',\n",
       " 'if',\n",
       " 'or',\n",
       " 'because',\n",
       " 'as',\n",
       " 'until',\n",
       " 'while',\n",
       " 'of',\n",
       " 'at',\n",
       " 'by',\n",
       " 'for',\n",
       " 'with',\n",
       " 'about',\n",
       " 'against',\n",
       " 'between',\n",
       " 'into',\n",
       " 'through',\n",
       " 'during',\n",
       " 'before',\n",
       " 'after',\n",
       " 'above',\n",
       " 'below',\n",
       " 'to',\n",
       " 'from',\n",
       " 'up',\n",
       " 'down',\n",
       " 'in',\n",
       " 'out',\n",
       " 'on',\n",
       " 'off',\n",
       " 'over',\n",
       " 'under',\n",
       " 'again',\n",
       " 'further',\n",
       " 'then',\n",
       " 'once',\n",
       " 'here',\n",
       " 'there',\n",
       " 'when',\n",
       " 'where',\n",
       " 'why',\n",
       " 'how',\n",
       " 'all',\n",
       " 'any',\n",
       " 'both',\n",
       " 'each',\n",
       " 'few',\n",
       " 'more',\n",
       " 'most',\n",
       " 'other',\n",
       " 'some',\n",
       " 'such',\n",
       " 'no',\n",
       " 'nor',\n",
       " 'not',\n",
       " 'only',\n",
       " 'own',\n",
       " 'same',\n",
       " 'so',\n",
       " 'than',\n",
       " 'too',\n",
       " 'very',\n",
       " 's',\n",
       " 't',\n",
       " 'can',\n",
       " 'will',\n",
       " 'just',\n",
       " 'don',\n",
       " \"don't\",\n",
       " 'should',\n",
       " \"should've\",\n",
       " 'now',\n",
       " 'd',\n",
       " 'll',\n",
       " 'm',\n",
       " 'o',\n",
       " 're',\n",
       " 've',\n",
       " 'y',\n",
       " 'ain',\n",
       " 'aren',\n",
       " \"aren't\",\n",
       " 'couldn',\n",
       " \"couldn't\",\n",
       " 'didn',\n",
       " \"didn't\",\n",
       " 'doesn',\n",
       " \"doesn't\",\n",
       " 'hadn',\n",
       " \"hadn't\",\n",
       " 'hasn',\n",
       " \"hasn't\",\n",
       " 'haven',\n",
       " \"haven't\",\n",
       " 'isn',\n",
       " \"isn't\",\n",
       " 'ma',\n",
       " 'mightn',\n",
       " \"mightn't\",\n",
       " 'mustn',\n",
       " \"mustn't\",\n",
       " 'needn',\n",
       " \"needn't\",\n",
       " 'shan',\n",
       " \"shan't\",\n",
       " 'shouldn',\n",
       " \"shouldn't\",\n",
       " 'wasn',\n",
       " \"wasn't\",\n",
       " 'weren',\n",
       " \"weren't\",\n",
       " 'won',\n",
       " \"won't\",\n",
       " 'wouldn',\n",
       " \"wouldn't\"]"
      ]
     },
     "execution_count": 15,
     "metadata": {},
     "output_type": "execute_result"
    }
   ],
   "source": [
    "stopwords.words('english')"
   ]
  },
  {
   "cell_type": "code",
   "execution_count": 37,
   "id": "4671a887",
   "metadata": {},
   "outputs": [
    {
     "name": "stdout",
     "output_type": "stream",
     "text": [
      "openai\n",
      "transit\n",
      "non\n",
      "profit\n",
      "cap\n",
      "profit\n",
      "profit\n",
      "cap\n",
      "time\n",
      "invest\n",
      "accord\n",
      "openai\n",
      "cap\n",
      "profit\n",
      "model\n",
      "allow\n",
      "openai\n",
      "global\n",
      "llc\n",
      "legal\n",
      "attract\n",
      "invest\n",
      "ventur\n",
      "fund\n",
      "addit\n",
      "grant\n",
      "employe\n",
      "stake\n",
      "compani\n",
      "mani\n",
      "top\n",
      "research\n",
      "work\n",
      "googl\n",
      "brain\n",
      "deepmind\n",
      "facebook\n",
      "offer\n",
      "stock\n",
      "option\n",
      "nonprofit\n",
      "would\n",
      "unabl\n",
      "transit\n",
      "public\n",
      "disclosur\n",
      "compens\n",
      "top\n",
      "employe\n",
      "openai\n",
      "legal\n",
      "requir\n",
      "compani\n",
      "distribut\n",
      "equiti\n",
      "employe\n",
      "partner\n",
      "microsoft\n",
      "announc\n",
      "invest\n",
      "packag\n",
      "billion\n",
      "compani\n"
     ]
    }
   ],
   "source": [
    "# stemming \n",
    "for sentence in corpus:\n",
    "    words = nltk.word_tokenize(sentence)\n",
    "    for word in words:\n",
    "        if word not in set(stopwords.words('english')):\n",
    "            print(stemmer.stem(word))"
   ]
  },
  {
   "cell_type": "code",
   "execution_count": 40,
   "id": "5f1b46ea",
   "metadata": {},
   "outputs": [
    {
     "name": "stdout",
     "output_type": "stream",
     "text": [
      "openai\n",
      "transitioned\n",
      "non\n",
      "profit\n",
      "capped\n",
      "profit\n",
      "profit\n",
      "capped\n",
      "time\n",
      "investment\n",
      "according\n",
      "openai\n",
      "capped\n",
      "profit\n",
      "model\n",
      "allows\n",
      "openai\n",
      "global\n",
      "llc\n",
      "legally\n",
      "attract\n",
      "investment\n",
      "venture\n",
      "fund\n",
      "addition\n",
      "grant\n",
      "employee\n",
      "stake\n",
      "company\n",
      "many\n",
      "top\n",
      "researcher\n",
      "work\n",
      "google\n",
      "brain\n",
      "deepmind\n",
      "facebook\n",
      "offer\n",
      "stock\n",
      "option\n",
      "nonprofit\n",
      "would\n",
      "unable\n",
      "transition\n",
      "public\n",
      "disclosure\n",
      "compensation\n",
      "top\n",
      "employee\n",
      "openai\n",
      "legally\n",
      "required\n",
      "company\n",
      "distributed\n",
      "equity\n",
      "employee\n",
      "partnered\n",
      "microsoft\n",
      "announcing\n",
      "investment\n",
      "package\n",
      "billion\n",
      "company\n"
     ]
    }
   ],
   "source": [
    "# lemmatization\n",
    "for sentence in corpus:\n",
    "    words = nltk.word_tokenize(sentence)\n",
    "    for word in words:\n",
    "        if word not in set(stopwords.words('english')):\n",
    "            print(lemmatizer.lemmatize(word))"
   ]
  },
  {
   "cell_type": "code",
   "execution_count": 42,
   "id": "de38a69c",
   "metadata": {},
   "outputs": [],
   "source": [
    "## apply stopwords, lemmatizer\n",
    "import re\n",
    "corpus=[]\n",
    "for i in range(len(sentences)):\n",
    "    review = re.sub('[^a-zA-Z]', ' ', sentences[i])\n",
    "    review = review.replace('[', '').replace(']', '')\n",
    "    review = review.lower()\n",
    "    review = review.split()\n",
    "    review = [lemmatizer.lemmatize(word) for word in review if word not in set(stopwords.words('english'))]\n",
    "    review = ' '.join(review)\n",
    "    corpus.append(review)\n",
    "    "
   ]
  },
  {
   "cell_type": "code",
   "execution_count": 43,
   "id": "fb9790ad",
   "metadata": {},
   "outputs": [
    {
     "data": {
      "text/plain": [
       "['openai transitioned non profit capped profit profit capped time investment',\n",
       " 'according openai capped profit model allows openai global llc legally attract investment venture fund addition grant employee stake company',\n",
       " 'many top researcher work google brain deepmind facebook offer stock option nonprofit would unable',\n",
       " 'transition public disclosure compensation top employee openai legally required',\n",
       " 'company distributed equity employee partnered microsoft announcing investment package billion company',\n",
       " 'since openai system run azure based supercomputing platform microsoft',\n",
       " 'openai global llc announced intention commercially license technology',\n",
       " 'planned spend billion within five year possibly much faster',\n",
       " 'altman stated even billion dollar may turn insufficient lab may ultimately need capital non profit ever raised achieve artificial general intelligence',\n",
       " 'transition nonprofit capped profit company viewed skepticism oren etzioni nonprofit allen institute ai agreed wooing top researcher nonprofit difficult stated disagree notion nonprofit compete pointed successful low budget project openai others',\n",
       " 'bigger better funded always better ibm would still number one',\n",
       " 'nonprofit openai inc sole controlling shareholder openai global llc despite profit company retains formal fiduciary responsibility openai inc nonprofit charter',\n",
       " 'majority openai inc board barred financial stake openai global llc',\n",
       " 'addition minority member stake openai global llc barred certain vote due conflict interest',\n",
       " 'researcher argued openai global llc switch profit status inconsistent openai claim democratizing ai',\n",
       " '']"
      ]
     },
     "execution_count": 43,
     "metadata": {},
     "output_type": "execute_result"
    }
   ],
   "source": [
    "corpus"
   ]
  },
  {
   "cell_type": "markdown",
   "id": "500d4d51",
   "metadata": {},
   "source": [
    "## BOW"
   ]
  },
  {
   "cell_type": "code",
   "execution_count": 44,
   "id": "f9c562fa",
   "metadata": {},
   "outputs": [],
   "source": [
    "from sklearn.feature_extraction.text import CountVectorizer\n",
    "cv = CountVectorizer(binary= True)  # parameter: ngram_range=(2,2)->bigrams,ngram_range=(3,3)->trigrams,(2,3)->both bi and tri"
   ]
  },
  {
   "cell_type": "code",
   "execution_count": 45,
   "id": "860f2ed1",
   "metadata": {},
   "outputs": [],
   "source": [
    "X = cv.fit_transform(corpus)"
   ]
  },
  {
   "cell_type": "code",
   "execution_count": 47,
   "id": "24a76a0c",
   "metadata": {},
   "outputs": [
    {
     "data": {
      "text/plain": [
       "{'openai': 89,\n",
       " 'transitioned': 126,\n",
       " 'non': 83,\n",
       " 'profit': 99,\n",
       " 'capped': 24,\n",
       " 'time': 123,\n",
       " 'investment': 68,\n",
       " 'according': 0,\n",
       " 'model': 80,\n",
       " 'allows': 6,\n",
       " 'global': 57,\n",
       " 'llc': 72,\n",
       " 'legally': 70,\n",
       " 'attract': 13,\n",
       " 'venture': 130,\n",
       " 'fund': 54,\n",
       " 'addition': 2,\n",
       " 'grant': 59,\n",
       " 'employee': 43,\n",
       " 'stake': 113,\n",
       " 'company': 29,\n",
       " 'many': 75,\n",
       " 'top': 124,\n",
       " 'researcher': 104,\n",
       " 'work': 135,\n",
       " 'google': 58,\n",
       " 'brain': 21,\n",
       " 'deepmind': 34,\n",
       " 'facebook': 48,\n",
       " 'offer': 87,\n",
       " 'stock': 117,\n",
       " 'option': 90,\n",
       " 'nonprofit': 84,\n",
       " 'would': 136,\n",
       " 'unable': 129,\n",
       " 'transition': 125,\n",
       " 'public': 101,\n",
       " 'disclosure': 39,\n",
       " 'compensation': 30,\n",
       " 'required': 103,\n",
       " 'distributed': 40,\n",
       " 'equity': 44,\n",
       " 'partnered': 94,\n",
       " 'microsoft': 78,\n",
       " 'announcing': 10,\n",
       " 'package': 93,\n",
       " 'billion': 19,\n",
       " 'since': 109,\n",
       " 'system': 121,\n",
       " 'run': 107,\n",
       " 'azure': 14,\n",
       " 'based': 16,\n",
       " 'supercomputing': 119,\n",
       " 'platform': 96,\n",
       " 'announced': 9,\n",
       " 'intention': 66,\n",
       " 'commercially': 28,\n",
       " 'license': 71,\n",
       " 'technology': 122,\n",
       " 'planned': 95,\n",
       " 'spend': 112,\n",
       " 'within': 133,\n",
       " 'five': 52,\n",
       " 'year': 137,\n",
       " 'possibly': 98,\n",
       " 'much': 81,\n",
       " 'faster': 49,\n",
       " 'altman': 7,\n",
       " 'stated': 114,\n",
       " 'even': 46,\n",
       " 'dollar': 41,\n",
       " 'may': 76,\n",
       " 'turn': 127,\n",
       " 'insufficient': 64,\n",
       " 'lab': 69,\n",
       " 'ultimately': 128,\n",
       " 'need': 82,\n",
       " 'capital': 23,\n",
       " 'ever': 47,\n",
       " 'raised': 102,\n",
       " 'achieve': 1,\n",
       " 'artificial': 12,\n",
       " 'general': 56,\n",
       " 'intelligence': 65,\n",
       " 'viewed': 131,\n",
       " 'skepticism': 110,\n",
       " 'oren': 91,\n",
       " 'etzioni': 45,\n",
       " 'allen': 5,\n",
       " 'institute': 63,\n",
       " 'ai': 4,\n",
       " 'agreed': 3,\n",
       " 'wooing': 134,\n",
       " 'difficult': 37,\n",
       " 'disagree': 38,\n",
       " 'notion': 85,\n",
       " 'compete': 31,\n",
       " 'pointed': 97,\n",
       " 'successful': 118,\n",
       " 'low': 73,\n",
       " 'budget': 22,\n",
       " 'project': 100,\n",
       " 'others': 92,\n",
       " 'bigger': 18,\n",
       " 'better': 17,\n",
       " 'funded': 55,\n",
       " 'always': 8,\n",
       " 'ibm': 60,\n",
       " 'still': 116,\n",
       " 'number': 86,\n",
       " 'one': 88,\n",
       " 'inc': 61,\n",
       " 'sole': 111,\n",
       " 'controlling': 33,\n",
       " 'shareholder': 108,\n",
       " 'despite': 36,\n",
       " 'retains': 106,\n",
       " 'formal': 53,\n",
       " 'fiduciary': 50,\n",
       " 'responsibility': 105,\n",
       " 'charter': 26,\n",
       " 'majority': 74,\n",
       " 'board': 20,\n",
       " 'barred': 15,\n",
       " 'financial': 51,\n",
       " 'minority': 79,\n",
       " 'member': 77,\n",
       " 'certain': 25,\n",
       " 'vote': 132,\n",
       " 'due': 42,\n",
       " 'conflict': 32,\n",
       " 'interest': 67,\n",
       " 'argued': 11,\n",
       " 'switch': 120,\n",
       " 'status': 115,\n",
       " 'inconsistent': 62,\n",
       " 'claim': 27,\n",
       " 'democratizing': 35}"
      ]
     },
     "execution_count": 47,
     "metadata": {},
     "output_type": "execute_result"
    }
   ],
   "source": [
    "cv.vocabulary_"
   ]
  },
  {
   "cell_type": "code",
   "execution_count": 48,
   "id": "20fa1bbe",
   "metadata": {},
   "outputs": [
    {
     "data": {
      "text/plain": [
       "'openai transitioned non profit capped profit profit capped time investment'"
      ]
     },
     "execution_count": 48,
     "metadata": {},
     "output_type": "execute_result"
    }
   ],
   "source": [
    "corpus[0]"
   ]
  },
  {
   "cell_type": "code",
   "execution_count": 49,
   "id": "6c68165e",
   "metadata": {},
   "outputs": [
    {
     "data": {
      "text/plain": [
       "array([[0, 0, 0, 0, 0, 0, 0, 0, 0, 0, 0, 0, 0, 0, 0, 0, 0, 0, 0, 0, 0, 0,\n",
       "        0, 0, 1, 0, 0, 0, 0, 0, 0, 0, 0, 0, 0, 0, 0, 0, 0, 0, 0, 0, 0, 0,\n",
       "        0, 0, 0, 0, 0, 0, 0, 0, 0, 0, 0, 0, 0, 0, 0, 0, 0, 0, 0, 0, 0, 0,\n",
       "        0, 0, 1, 0, 0, 0, 0, 0, 0, 0, 0, 0, 0, 0, 0, 0, 0, 1, 0, 0, 0, 0,\n",
       "        0, 1, 0, 0, 0, 0, 0, 0, 0, 0, 0, 1, 0, 0, 0, 0, 0, 0, 0, 0, 0, 0,\n",
       "        0, 0, 0, 0, 0, 0, 0, 0, 0, 0, 0, 0, 0, 1, 0, 0, 1, 0, 0, 0, 0, 0,\n",
       "        0, 0, 0, 0, 0, 0]], dtype=int64)"
      ]
     },
     "execution_count": 49,
     "metadata": {},
     "output_type": "execute_result"
    }
   ],
   "source": [
    "X[0].toarray()  # problem of parsity"
   ]
  },
  {
   "cell_type": "markdown",
   "id": "f4dacd58",
   "metadata": {},
   "source": [
    "# TF-IDF"
   ]
  },
  {
   "cell_type": "code",
   "execution_count": 66,
   "id": "69d44221",
   "metadata": {},
   "outputs": [],
   "source": [
    "from sklearn.feature_extraction.text import TfidfVectorizer\n",
    "cv = TfidfVectorizer()\n",
    "X = cv.fit_transform(corpus)"
   ]
  },
  {
   "cell_type": "code",
   "execution_count": 67,
   "id": "c4312351",
   "metadata": {},
   "outputs": [
    {
     "data": {
      "text/plain": [
       "'openai transitioned non profit capped profit profit capped time investment'"
      ]
     },
     "execution_count": 67,
     "metadata": {},
     "output_type": "execute_result"
    }
   ],
   "source": [
    "corpus[0]"
   ]
  },
  {
   "cell_type": "code",
   "execution_count": 68,
   "id": "0c978955",
   "metadata": {},
   "outputs": [
    {
     "data": {
      "text/plain": [
       "array([[0.        , 0.        , 0.        , 0.        , 0.        ,\n",
       "        0.        , 0.        , 0.        , 0.        , 0.        ,\n",
       "        0.        , 0.        , 0.        , 0.        , 0.        ,\n",
       "        0.        , 0.        , 0.        , 0.        , 0.        ,\n",
       "        0.        , 0.        , 0.        , 0.        , 0.51230337,\n",
       "        0.        , 0.        , 0.        , 0.        , 0.        ,\n",
       "        0.        , 0.        , 0.        , 0.        , 0.        ,\n",
       "        0.        , 0.        , 0.        , 0.        , 0.        ,\n",
       "        0.        , 0.        , 0.        , 0.        , 0.        ,\n",
       "        0.        , 0.        , 0.        , 0.        , 0.        ,\n",
       "        0.        , 0.        , 0.        , 0.        , 0.        ,\n",
       "        0.        , 0.        , 0.        , 0.        , 0.        ,\n",
       "        0.        , 0.        , 0.        , 0.        , 0.        ,\n",
       "        0.        , 0.        , 0.        , 0.25615169, 0.        ,\n",
       "        0.        , 0.        , 0.        , 0.        , 0.        ,\n",
       "        0.        , 0.        , 0.        , 0.        , 0.        ,\n",
       "        0.        , 0.        , 0.        , 0.28626721, 0.        ,\n",
       "        0.        , 0.        , 0.        , 0.        , 0.15025391,\n",
       "        0.        , 0.        , 0.        , 0.        , 0.        ,\n",
       "        0.        , 0.        , 0.        , 0.        , 0.59270768,\n",
       "        0.        , 0.        , 0.        , 0.        , 0.        ,\n",
       "        0.        , 0.        , 0.        , 0.        , 0.        ,\n",
       "        0.        , 0.        , 0.        , 0.        , 0.        ,\n",
       "        0.        , 0.        , 0.        , 0.        , 0.        ,\n",
       "        0.        , 0.        , 0.        , 0.32871266, 0.        ,\n",
       "        0.        , 0.32871266, 0.        , 0.        , 0.        ,\n",
       "        0.        , 0.        , 0.        , 0.        , 0.        ,\n",
       "        0.        , 0.        , 0.        ]])"
      ]
     },
     "execution_count": 68,
     "metadata": {},
     "output_type": "execute_result"
    }
   ],
   "source": [
    "X[0].toarray()"
   ]
  },
  {
   "cell_type": "code",
   "execution_count": null,
   "id": "6a9ff7c8",
   "metadata": {},
   "outputs": [],
   "source": []
  }
 ],
 "metadata": {
  "kernelspec": {
   "display_name": "Python 3 (ipykernel)",
   "language": "python",
   "name": "python3"
  },
  "language_info": {
   "codemirror_mode": {
    "name": "ipython",
    "version": 3
   },
   "file_extension": ".py",
   "mimetype": "text/x-python",
   "name": "python",
   "nbconvert_exporter": "python",
   "pygments_lexer": "ipython3",
   "version": "3.8.5"
  }
 },
 "nbformat": 4,
 "nbformat_minor": 5
}
